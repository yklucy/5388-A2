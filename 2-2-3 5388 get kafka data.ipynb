{
 "cells": [
  {
   "cell_type": "code",
   "execution_count": 1,
   "metadata": {},
   "outputs": [],
   "source": [
    "import pandas as pd\n",
    "import numpy as np\n",
    "from sklearn.preprocessing import MinMaxScaler\n",
    "\n",
    "import time\n",
    "from kafka import KafkaConsumer\n",
    "from collections import Counter\n",
    "from sklearn.preprocessing import OneHotEncoder"
   ]
  },
  {
   "cell_type": "code",
   "execution_count": 97,
   "metadata": {},
   "outputs": [],
   "source": [
    "# ^^^^^^^^^^^^^^^^^^^^^^get data from kafka server and transform to csv files^^^^^^^^^^^^^^^^^^\n",
    "# author:           Kun Yan\n",
    "# student number:   300259303\n",
    "# data:             2021-10-30\n",
    "# Python version:   3.9.7\n",
    "# ^^^^^^^^^^^^^^^^^^^^^^^^^^^^^^^^^^^^^^^^^^^^^^^^^^^^^^^^^^^^^^^^^^^^^^^^^^^^^^^^^^^^^^^^^^^^^^\n",
    "\n",
    "# Step 1:  get data from kafka server-----------------------------\n",
    "# A data stream (from the kafka server)\n",
    "# instantiate the KafkaConsumer Class using the arguments mentioned.\n",
    "# do not change any arguments other than the first positional argument.\n",
    "consumer = KafkaConsumer(\n",
    "    'task2',   # change this to \"task2\" for the IOT Botnet Detection  ---- important ----\n",
    "    bootstrap_servers=\"34.130.121.39:9092\",\n",
    "    sasl_plain_username=\"student\",\n",
    "    sasl_plain_password=\"uottawa\",\n",
    "    security_protocol=\"SASL_PLAINTEXT\",\n",
    "    sasl_mechanism=\"PLAIN\",\n",
    "    auto_offset_reset='earliest',\n",
    "    enable_auto_commit=False\n",
    ")"
   ]
  },
  {
   "cell_type": "code",
   "execution_count": 12,
   "metadata": {},
   "outputs": [
    {
     "name": "stdout",
     "output_type": "stream",
     "text": [
      "=============================================\n",
      "message:100000\n"
     ]
    }
   ],
   "source": [
    "filename = 'kafka_2.txt'\n",
    "output = open(filename,'w')\n",
    "\n",
    "# Data Stream flowing in.\n",
    "i = 0\n",
    "for message in consumer:\n",
    "    #print(f\"Consuming the {i+1}th data packet!\")\n",
    "    data_packet = bytes.decode(message.value)\n",
    "    #print(data_packet)\n",
    "    output.write(data_packet)\n",
    "    output.write(\"\\n\")\n",
    "        \n",
    "    if i == 100000:\n",
    "        break\n",
    "\n",
    "    i += 1\n",
    "\n",
    "output.close()\n",
    "print(\"=============================================\")\n",
    "print(\"message:%d\"%(i))"
   ]
  },
  {
   "cell_type": "code",
   "execution_count": null,
   "metadata": {},
   "outputs": [],
   "source": []
  }
 ],
 "metadata": {
  "interpreter": {
   "hash": "2c701a3eaa56c792080692be7ed804fc7337106df51979399b9629b6524716ca"
  },
  "kernelspec": {
   "display_name": "Python 3 (ipykernel)",
   "language": "python",
   "name": "python3"
  },
  "language_info": {
   "codemirror_mode": {
    "name": "ipython",
    "version": 3
   },
   "file_extension": ".py",
   "mimetype": "text/x-python",
   "name": "python",
   "nbconvert_exporter": "python",
   "pygments_lexer": "ipython3",
   "version": "3.9.7"
  }
 },
 "nbformat": 4,
 "nbformat_minor": 2
}
