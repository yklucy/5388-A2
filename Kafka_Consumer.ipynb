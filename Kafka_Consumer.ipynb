{
 "cells": [
  {
   "cell_type": "code",
   "execution_count": 1,
   "metadata": {},
   "outputs": [
    {
     "name": "stdout",
     "output_type": "stream",
     "text": [
      "Requirement already satisfied: kafka-python in /Users/yankun/yankun/Python/anaconda3/envs/sklearn-env/lib/python3.9/site-packages (2.0.2)\r\n"
     ]
    }
   ],
   "source": [
    "# Make sure that you have the dependency installed on your system\n",
    "# If not installed, install by running the following\n",
    "!pip install kafka-python"
   ]
  },
  {
   "cell_type": "code",
   "execution_count": 6,
   "metadata": {},
   "outputs": [
    {
     "name": "stdout",
     "output_type": "stream",
     "text": [
      "Consuming the 1th data packet!\n",
      "ConsumerRecord(topic='task1', partition=1, offset=0, timestamp=1631149846344, timestamp_type=0, key=None, value=b\"{'Destination Port': 443, 'Flow Duration': 84292, 'Total Fwd Packets': 2, 'Total Backward Packets': 0, 'Total Length of Fwd Packets': 0, 'Total Length of Bwd Packets': 0, 'Fwd Packet Length Max': 0, 'Fwd Packet Length Min': 0, 'Fwd Packet Length Mean': 0.0, 'Fwd Packet Length Std': 0.0, 'Bwd Packet Length Max': 0, 'Bwd Packet Length Min': 0, 'Bwd Packet Length Mean': 0.0, 'Bwd Packet Length Std': 0.0, 'Flow Bytes/s': 0.0, 'Flow Packets/s': 23.72704408, 'Flow IAT Mean': 84292.0, 'Flow IAT Std': 0.0, 'Flow IAT Max': 84292, 'Flow IAT Min': 84292, 'Fwd IAT Total': 84292, 'Fwd IAT Mean': 84292.0, 'Fwd IAT Std': 0.0, 'Fwd IAT Max': 84292, 'Fwd IAT Min': 84292, 'Bwd IAT Total': 0, 'Bwd IAT Mean': 0.0, 'Bwd IAT Std': 0.0, 'Bwd IAT Max': 0, 'Bwd IAT Min': 0, 'Fwd PSH Flags': 0, 'Bwd PSH Flags': 0, 'Fwd URG Flags': 0, 'Bwd URG Flags': 0, 'Fwd Header Length': 40, 'Bwd Header Length': 0, 'Fwd Packets/s': 23.72704408, 'Bwd Packets/s': 0.0, 'Min Packet Length': 0, 'Max Packet Length': 0, 'Packet Length Mean': 0.0, 'Packet Length Std': 0.0, 'Packet Length Variance': 0.0, 'FIN Flag Count': 0, 'SYN Flag Count': 0, 'RST Flag Count': 0, 'PSH Flag Count': 0, 'ACK Flag Count': 1, 'URG Flag Count': 0, 'CWE Flag Count': 0, 'ECE Flag Count': 0, 'Down/Up Ratio': 0, 'Average Packet Size': 0.0, 'Avg Fwd Segment Size': 0.0, 'Avg Bwd Segment Size': 0.0, 'Fwd Header Length.1': 40, 'Fwd Avg Bytes/Bulk': 0, 'Fwd Avg Packets/Bulk': 0, 'Fwd Avg Bulk Rate': 0, 'Bwd Avg Bytes/Bulk': 0, 'Bwd Avg Packets/Bulk': 0, 'Bwd Avg Bulk Rate': 0, 'Subflow Fwd Packets': 2, 'Subflow Fwd Bytes': 0, 'Subflow Bwd Packets': 0, 'Subflow Bwd Bytes': 0, 'Init_Win_bytes_forward': 63632, 'Init_Win_bytes_backward': -1, 'act_data_pkt_fwd': 0, 'min_seg_size_forward': 20, 'Active Mean': 0.0, 'Active Std': 0.0, 'Active Max': 0, 'Active Min': 0, 'Idle Mean': 0.0, 'Idle Std': 0.0, 'Idle Max': 0, 'Idle Min': 0, 'Label': 'BENIGN'}\", headers=[], checksum=None, serialized_key_size=-1, serialized_value_size=1897, serialized_header_size=-1)\n"
     ]
    }
   ],
   "source": [
    "import time\n",
    "\n",
    "# Import the python Consumer Client for Kafka\n",
    "from kafka import KafkaConsumer\n",
    "\n",
    "# instantiate the KafkaConsumer Class using the arguments mentioned.\n",
    "# do not change any arguments other than the first positional argument.\n",
    "consumer = KafkaConsumer(\n",
    "    'task1',   # change this to \"task2\" for the IOT Botnet Detection  ---- important ----\n",
    "    bootstrap_servers=\"34.130.121.39:9092\",\n",
    "    sasl_plain_username=\"student\",\n",
    "    sasl_plain_password=\"uottawa\",\n",
    "    security_protocol=\"SASL_PLAINTEXT\",\n",
    "    sasl_mechanism=\"PLAIN\",\n",
    "    auto_offset_reset='earliest',\n",
    "    enable_auto_commit=False\n",
    ")\n",
    "\n",
    "# Data Stream flowing in.\n",
    "i = 0\n",
    "for message in consumer:\n",
    "    print(f\"Consuming the {i+1}th data packet!\")\n",
    "    print(message)\n",
    "    data_packet = message.value\n",
    "    #print(data_packet)\n",
    "    \n",
    "    \n",
    "    ##############################################\n",
    "    \n",
    "    \n",
    "    \n",
    "    \n",
    "    # your adaptation logic here #\n",
    "    \n",
    "    \n",
    "    \n",
    "    \n",
    "    \n",
    "    \n",
    "    \n",
    "    \n",
    "    ##############################################\n",
    "    break\n",
    "    \n",
    "    if i == 10:\n",
    "        break\n",
    "        \n",
    "    i += 1"
   ]
  },
  {
   "cell_type": "code",
   "execution_count": null,
   "metadata": {},
   "outputs": [],
   "source": []
  }
 ],
 "metadata": {
  "kernelspec": {
   "display_name": "Python 3 (ipykernel)",
   "language": "python",
   "name": "python3"
  },
  "language_info": {
   "codemirror_mode": {
    "name": "ipython",
    "version": 3
   },
   "file_extension": ".py",
   "mimetype": "text/x-python",
   "name": "python",
   "nbconvert_exporter": "python",
   "pygments_lexer": "ipython3",
   "version": "3.9.7"
  }
 },
 "nbformat": 4,
 "nbformat_minor": 4
}
