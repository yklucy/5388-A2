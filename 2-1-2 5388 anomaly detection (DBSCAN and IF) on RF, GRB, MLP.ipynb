{
 "cells": [
  {
   "cell_type": "code",
   "execution_count": 1,
   "metadata": {},
   "outputs": [],
   "source": [
    "\n",
    "import pandas as pd\n",
    "from collections import Counter\n",
    "\n",
    "from sklearn.cluster import DBSCAN\n",
    "from sklearn.ensemble import IsolationForest\n",
    "from sklearn.metrics import mean_absolute_error\n",
    "\n",
    "from sklearn.ensemble import RandomForestClassifier\n",
    "from sklearn.neural_network import MLPClassifier\n",
    "from sklearn.ensemble import GradientBoostingClassifier\n",
    "\n",
    "from sklearn.model_selection import train_test_split\n",
    "from sklearn.metrics import f1_score\n",
    "\n",
    "from sklearn.preprocessing import MinMaxScaler"
   ]
  },
  {
   "cell_type": "code",
   "execution_count": 2,
   "metadata": {},
   "outputs": [],
   "source": [
    "# write the print content to file \n",
    "f = open(\"2-1-2 abnomaly detection(DBSCAN and IF) on RF, GRB and MLP.log\",'w+')\n",
    "\n",
    "data_aftcat = pd.read_csv(r\"./2-1-1 5388 data_aftcat.csv\")\n",
    "data_y = pd.read_csv(r\"./2-1-1 5388 data_aftcat label.csv\")"
   ]
  },
  {
   "cell_type": "code",
   "execution_count": 3,
   "metadata": {},
   "outputs": [],
   "source": [
    "# ^^^^^^^^^^^^^^^^^^^^^^^^^^^ Abnomaly detection ^^^^^^^^^^^^^^^^^^^^^^^^^^^\n",
    "# author:           Kun Yan\n",
    "# student number:   300259303\n",
    "# data:             2021-10-30\n",
    "# Python version:   3.9.7\n",
    "# ^^^^^^^^^^^^^^^^^^^^^^^^^^^^^^^^^^^^^^^^^^^^^^^^^^^^^^^^^^^^^^^^^^^^^^^^^^^^^^\n",
    "\n",
    "# ---------------- transform all feature with MinMaxScaler()---------------- \n",
    "mm = MinMaxScaler()\n",
    "data_aftmm = pd.DataFrame(mm.fit_transform(data_aftcat))\n",
    "data_aftmm.columns = mm.get_feature_names_out()"
   ]
  },
  {
   "cell_type": "code",
   "execution_count": 4,
   "metadata": {},
   "outputs": [],
   "source": [
    "# ---------------- Split train datasets and test ---------------\n",
    "# split into train and test datasets\n",
    "X_train, X_test, y_train, y_test = train_test_split(data_aftmm, data_y, test_size=0.3, random_state=42)"
   ]
  },
  {
   "cell_type": "code",
   "execution_count": 5,
   "metadata": {},
   "outputs": [],
   "source": [
    "# ---------------- function: dbscan_detection() ----------------\n",
    "# function: dbscan_detection() - return X_new, y_new\n",
    "def dbscan_detection(X, y):\n",
    "    dbscan = DBSCAN(eps=0.1, min_samples=2, metric='cosine')\n",
    "    # fit the data to DBSCAN\n",
    "    y_pre = dbscan.fit_predict(X, y.values.ravel())\n",
    "    # filter out predictions values = -1 since they are considered as anomalies\n",
    "    mask = y_pre != -1\n",
    "    out_dbscan = Counter(mask)[0]\n",
    "    in_dbscan = Counter(mask)[1]\n",
    "    print(\"Removed outliers:\", out_dbscan)\n",
    "    print(\"Removed outliers:\", out_dbscan,file=f)\n",
    "    print(\"kept inliers:\", in_dbscan)\n",
    "    print(\"kept inliers:\", in_dbscan,file=f)\n",
    "    X_new, y_new = X[mask],y[mask]\n",
    "    return X_new, y_new"
   ]
  },
  {
   "cell_type": "code",
   "execution_count": 6,
   "metadata": {},
   "outputs": [],
   "source": [
    "# ---------------- function: if_detection() / Isolation Forest ----------------\n",
    "# function: if_detection() - return X_new, y_new\n",
    "def if_detection(X, y):\n",
    "    isf = IsolationForest(contamination='auto',random_state=40)\n",
    "    # fit the data to IF\n",
    "    y_pre = isf.fit_predict(X, y.values.ravel())\n",
    "    # filter out predictions values = -1, they are anomalies\n",
    "    mask = y_pre != -1\n",
    "    X_isf, y_isf = X[mask], y[mask]\n",
    "    return X_isf, y_isf"
   ]
  },
  {
   "cell_type": "code",
   "execution_count": 7,
   "metadata": {},
   "outputs": [],
   "source": [
    "# ---------------- function: dbscan_score() - test and print scores ---------------\n",
    "# function:dbscan_score() - test and print scores\n",
    "def dbscan_score(m, X, y, X_t, y_t, X_new, y_new):\n",
    "    print(m)\n",
    "    print(\"Score before Anomaly Detection (DBSCAN) \\n\")\n",
    "    print(m,file=f)\n",
    "    print(\"Score before Anomaly Detection (DBSCAN) \\n\",file=f)\n",
    "    m.fit(X, y.values.ravel()) \n",
    "    # prediction from the model\n",
    "    y_pre = m.predict(X_t)\n",
    "    # score\n",
    "    f1 = f1_score(y_t, y_pre)\n",
    "    print(\"F1:\", f1)\n",
    "    print(\"\\n\")\n",
    "    print(\"F1:\", f1,file=f)\n",
    "    print(\"\\n\",file=f)\n",
    "\n",
    "\n",
    "    print(\"Score after Anomaly Detection (DBSCAN) \\n\")\n",
    "    print(\"Score after Anomaly Detection (DBSCAN) \\n\",file=f)\n",
    "    m.fit(X_new, y_new.values.ravel())\n",
    "    y_pre_af = m.predict(X_t)\n",
    "    f1_af = f1_score(y_t,y_pre_af)\n",
    "    print(\"F1:\", f1_af)\n",
    "    print(\"\\n\")\n",
    "    print(\"F1:\", f1_af,file=f)\n",
    "    print(\"\\n\",file=f)"
   ]
  },
  {
   "cell_type": "code",
   "execution_count": 8,
   "metadata": {},
   "outputs": [],
   "source": [
    "# ---------------- function: if_score() - test and print ----------------\n",
    "def if_score(m,X, y, X_new, y_new):\n",
    "    print(m)\n",
    "    print(m,file=f)\n",
    "    # Step 1: Score before Anomaly Detection (IF) ---------------\n",
    "    mae_before = mean_absolute_error(m.predict(X),y)\n",
    "    print(\"The MAE before IF is:\", mae_before)\n",
    "    print(\"The MAE before IF is:\", mae_before,file=f)\n",
    "    # fit the model on the new data set\n",
    "    m.fit(X_new, y_new.values.ravel())\n",
    "\n",
    "    # Step 2: Score after Anomaly Detection (IF) ---------------\n",
    "    # compute the MAE\n",
    "    mae_after = mean_absolute_error(m.predict(X),y)\n",
    "    print(\"The MAE after IF is: \", mae_after)\n",
    "    print(\"The MAE after IF is: \", mae_after,file=f)\n",
    "    # compute the difference between the MAEs before and after IF\n",
    "    diff = mae_before - mae_after\n",
    "    print(\"the difference between the MAEs before and after IF:\", diff)\n",
    "    print(\"\\n\")\n",
    "    print(\"the difference between the MAEs before and after IF:\", diff,file=f)\n",
    "    print(\"\\n\",file=f)"
   ]
  },
  {
   "cell_type": "code",
   "execution_count": 9,
   "metadata": {},
   "outputs": [],
   "source": [
    "# ---------------- model: RF, GRB, MLP----------------\n",
    "# fit the model (RF, GRB, MLP)\n",
    "model_rf = RandomForestClassifier(random_state = 90, min_samples_split=2,n_estimators=61,max_depth=24, max_features=27,min_samples_leaf=1, n_jobs=-1)\n",
    "model_grb = GradientBoostingClassifier(max_features=3,learning_rate=0.1,n_estimators=130,min_samples_split=100,min_samples_leaf=7,max_depth=15,random_state = 10)\n",
    "model_mlp = MLPClassifier(random_state=1, max_iter=10000,hidden_layer_sizes = (160,160), activation='tanh',solver='adam')\n"
   ]
  },
  {
   "cell_type": "code",
   "execution_count": 10,
   "metadata": {},
   "outputs": [
    {
     "name": "stdout",
     "output_type": "stream",
     "text": [
      "Removed outliers: 13\n",
      "kept inliers: 17308\n",
      "RandomForestClassifier(max_depth=24, max_features=27, n_estimators=61,\n",
      "                       n_jobs=-1, random_state=90)\n",
      "Score before Anomaly Detection (DBSCAN) \n",
      "\n",
      "F1: 0.9874723655121592\n",
      "\n",
      "\n",
      "Score after Anomaly Detection (DBSCAN) \n",
      "\n",
      "F1: 0.9844789356984478\n",
      "\n",
      "\n",
      "GradientBoostingClassifier(max_depth=15, max_features=3, min_samples_leaf=7,\n",
      "                           min_samples_split=100, n_estimators=130,\n",
      "                           random_state=10)\n",
      "Score before Anomaly Detection (DBSCAN) \n",
      "\n",
      "F1: 0.9852289512555391\n",
      "\n",
      "\n",
      "Score after Anomaly Detection (DBSCAN) \n",
      "\n",
      "F1: 0.9867452135493373\n",
      "\n",
      "\n",
      "MLPClassifier(activation='tanh', hidden_layer_sizes=(160, 160), max_iter=10000,\n",
      "              random_state=1)\n",
      "Score before Anomaly Detection (DBSCAN) \n",
      "\n",
      "F1: 0.8592471358428806\n",
      "\n",
      "\n",
      "Score after Anomaly Detection (DBSCAN) \n",
      "\n",
      "F1: 0.9083850931677019\n",
      "\n",
      "\n"
     ]
    }
   ],
   "source": [
    "# ^^^^^^^^^^^^^^^^^^^^^^^^^^^ 1 Anomaly detection - DBSCAN ^^^^^^^^^^^^^^^^^^^^^^^^^^^^^^^^^^^\n",
    "# check if it is efficient for RF, MLP, GRB on the intrusion detection dataset\n",
    "# author:           Kun Yan\n",
    "# student number:   300259303\n",
    "# data:             2021-10-03\n",
    "# Python version:   3.9.7\n",
    "# ^^^^^^^^^^^^^^^^^^^^^^^^^^^^^^^^^^^^^^^^^^^^^^^^^^^^^^^^^^^^^^^^^^^^^^^^^^^^^^^^^^^^^^^^^^^^^^^^\n",
    "\n",
    "# ---------------- 1 Anomaly Detection: DBSCAN---------------\n",
    "X_train_new, y_train_new = dbscan_detection(X_train, y_train)\n",
    "\n",
    "dbscan_score(model_rf, X_train, y_train, X_test, y_test, X_train_new, y_train_new)\n",
    "dbscan_score(model_grb, X_train, y_train, X_test, y_test, X_train_new, y_train_new)\n",
    "dbscan_score(model_mlp, X_train, y_train, X_test, y_test, X_train_new, y_train_new)\n"
   ]
  },
  {
   "cell_type": "code",
   "execution_count": 11,
   "metadata": {},
   "outputs": [
    {
     "name": "stdout",
     "output_type": "stream",
     "text": [
      "RandomForestClassifier(max_depth=24, max_features=27, n_estimators=61,\n",
      "                       n_jobs=-1, random_state=90)\n",
      "The MAE before IF is: 5.773338721782807e-05\n",
      "The MAE after IF is:  0.004560937590208418\n",
      "the difference between the MAEs before and after IF: -0.00450320420299059\n",
      "\n",
      "\n",
      "GradientBoostingClassifier(max_depth=15, max_features=3, min_samples_leaf=7,\n",
      "                           min_samples_split=100, n_estimators=130,\n",
      "                           random_state=10)\n",
      "The MAE before IF is: 0.00023093354887131228\n",
      "The MAE after IF is:  0.0019052017781883263\n",
      "the difference between the MAEs before and after IF: -0.001674268229317014\n",
      "\n",
      "\n",
      "MLPClassifier(activation='tanh', hidden_layer_sizes=(160, 160), max_iter=10000,\n",
      "              random_state=1)\n",
      "The MAE before IF is: 0.01408694648115005\n",
      "The MAE after IF is:  0.02990589457883494\n",
      "the difference between the MAEs before and after IF: -0.01581894809768489\n",
      "\n",
      "\n"
     ]
    }
   ],
   "source": [
    "# ^^^^^^^^^^^^^^^^^^^^^^^^^^^2 Anomaly detection - IF ^^^^^^^^^^^^^^^^^^^^^^^^^^^^^^^^^^^^\n",
    "# check if it is efficient for RF, MLP, GRB on the intrusion detection dataset\n",
    "# author:           Kun Yan\n",
    "# student number:   300259303\n",
    "# data:             2021-10-03\n",
    "# Python version:   3.9.7\n",
    "# ^^^^^^^^^^^^^^^^^^^^^^^^^^^^^^^^^^^^^^^^^^^^^^^^^^^^^^^^^^^^^^^^^^^^^^^^^^^^^^^^^^^^^^^^\n",
    "# ---------------- Anomaly Detection: IF ---------------\n",
    "X_train_new_if, y_train_new_if = if_detection(data_aftmm, data_y)\n",
    "\n",
    "if_score(model_rf, X_train, y_train, X_train_new_if, y_train_new_if)\n",
    "if_score(model_grb, X_train, y_train, X_train_new_if, y_train_new_if)\n",
    "if_score(model_mlp, X_train, y_train, X_train_new_if, y_train_new_if)\n"
   ]
  },
  {
   "cell_type": "code",
   "execution_count": 12,
   "metadata": {},
   "outputs": [],
   "source": [
    "# ^^^^^^^^^^^^^^^^^^^^^^^^^^^ Conclusion : DBSCAN and IF on RF, GRB and MLP^^^^^^^^^^^^^^^^^\n",
    "#DBSCAN (no)\n",
    "#   RF(-), GRB(+), MLP(+)\n",
    "#    F1 (RF) before - highest (F1: 0.9874723655121592)\n",
    "#\n",
    "#IF (no)\n",
    "#    RF(-0.00450320420299059), GRB(-0.001674268229317014), MLP(-0.01581894809768489)\n",
    "# ^^^^^^^^^^^^^^^^^^^^^^^^^^^^^^^^^^^^^^^^^^^^^^^^^^^^^^^^^^^^^^^^^^^^^^^^^^^^^^^^^^^^^^^^^^\n",
    "\n"
   ]
  }
 ],
 "metadata": {
  "interpreter": {
   "hash": "2c701a3eaa56c792080692be7ed804fc7337106df51979399b9629b6524716ca"
  },
  "kernelspec": {
   "display_name": "Python 3 (ipykernel)",
   "language": "python",
   "name": "python3"
  },
  "language_info": {
   "codemirror_mode": {
    "name": "ipython",
    "version": 3
   },
   "file_extension": ".py",
   "mimetype": "text/x-python",
   "name": "python",
   "nbconvert_exporter": "python",
   "pygments_lexer": "ipython3",
   "version": "3.9.7"
  }
 },
 "nbformat": 4,
 "nbformat_minor": 2
}
