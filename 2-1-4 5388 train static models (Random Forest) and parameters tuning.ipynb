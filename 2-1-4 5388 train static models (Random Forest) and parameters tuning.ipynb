{
 "cells": [
  {
   "cell_type": "markdown",
   "metadata": {},
   "source": [
    "# Train model (Random Forest) and parameters tuning"
   ]
  },
  {
   "cell_type": "code",
   "execution_count": 1,
   "metadata": {},
   "outputs": [],
   "source": [
    "import pandas as pd\n",
    "import numpy as np\n",
    "from sklearn.preprocessing import MinMaxScaler\n",
    "from sklearn.feature_selection import VarianceThreshold\n",
    "#from sklearn.pipeline import Pipeline\n",
    "from imblearn.pipeline import Pipeline\n",
    "\n",
    "\n",
    "from sklearn.ensemble import RandomForestClassifier\n",
    "from sklearn.ensemble import GradientBoostingClassifier\n",
    "from sklearn.model_selection import cross_validate\n",
    "\n",
    "from imblearn.over_sampling import SMOTE\n",
    "from sklearn.model_selection import cross_validate"
   ]
  },
  {
   "cell_type": "code",
   "execution_count": 2,
   "metadata": {},
   "outputs": [],
   "source": [
    "#read data from dataset (after feature extraction )\n",
    "# train model: aftcat, CV(Pipeline(imbalanced, MinMaxScaler, selector, model))\n",
    "data_aftcat = pd.read_csv(r\"./2-1 5388 data_aftcat.csv\")\n",
    "data_aftcat_y = pd.read_csv(r\"./2-1 5388 data_aftcat label.csv\")"
   ]
  },
  {
   "cell_type": "code",
   "execution_count": 122,
   "metadata": {},
   "outputs": [
    {
     "data": {
      "text/html": [
       "<div>\n",
       "<style scoped>\n",
       "    .dataframe tbody tr th:only-of-type {\n",
       "        vertical-align: middle;\n",
       "    }\n",
       "\n",
       "    .dataframe tbody tr th {\n",
       "        vertical-align: top;\n",
       "    }\n",
       "\n",
       "    .dataframe thead th {\n",
       "        text-align: right;\n",
       "    }\n",
       "</style>\n",
       "<table border=\"1\" class=\"dataframe\">\n",
       "  <thead>\n",
       "    <tr style=\"text-align: right;\">\n",
       "      <th></th>\n",
       "      <th>Destination Port</th>\n",
       "      <th>Flow Duration</th>\n",
       "      <th>Total Fwd Packets</th>\n",
       "      <th>Total Backward Packets</th>\n",
       "      <th>Total Length of Fwd Packets</th>\n",
       "      <th>Total Length of Bwd Packets</th>\n",
       "      <th>Fwd Packet Length Max</th>\n",
       "      <th>Fwd Packet Length Min</th>\n",
       "      <th>Fwd Packet Length Mean</th>\n",
       "      <th>Fwd Packet Length Std</th>\n",
       "      <th>...</th>\n",
       "      <th>act_data_pkt_fwd</th>\n",
       "      <th>min_seg_size_forward</th>\n",
       "      <th>Active Mean</th>\n",
       "      <th>Active Std</th>\n",
       "      <th>Active Max</th>\n",
       "      <th>Active Min</th>\n",
       "      <th>Idle Mean</th>\n",
       "      <th>Idle Std</th>\n",
       "      <th>Idle Max</th>\n",
       "      <th>Idle Min</th>\n",
       "    </tr>\n",
       "  </thead>\n",
       "  <tbody>\n",
       "    <tr>\n",
       "      <th>0</th>\n",
       "      <td>7496</td>\n",
       "      <td>43</td>\n",
       "      <td>1</td>\n",
       "      <td>1</td>\n",
       "      <td>0</td>\n",
       "      <td>6</td>\n",
       "      <td>0</td>\n",
       "      <td>0</td>\n",
       "      <td>0.000000</td>\n",
       "      <td>0.000000</td>\n",
       "      <td>...</td>\n",
       "      <td>0</td>\n",
       "      <td>40</td>\n",
       "      <td>0.0</td>\n",
       "      <td>0.0</td>\n",
       "      <td>0</td>\n",
       "      <td>0</td>\n",
       "      <td>0.0</td>\n",
       "      <td>0.0</td>\n",
       "      <td>0</td>\n",
       "      <td>0</td>\n",
       "    </tr>\n",
       "    <tr>\n",
       "      <th>1</th>\n",
       "      <td>46564</td>\n",
       "      <td>61</td>\n",
       "      <td>1</td>\n",
       "      <td>1</td>\n",
       "      <td>6</td>\n",
       "      <td>6</td>\n",
       "      <td>6</td>\n",
       "      <td>6</td>\n",
       "      <td>6.000000</td>\n",
       "      <td>0.000000</td>\n",
       "      <td>...</td>\n",
       "      <td>0</td>\n",
       "      <td>20</td>\n",
       "      <td>0.0</td>\n",
       "      <td>0.0</td>\n",
       "      <td>0</td>\n",
       "      <td>0</td>\n",
       "      <td>0.0</td>\n",
       "      <td>0.0</td>\n",
       "      <td>0</td>\n",
       "      <td>0</td>\n",
       "    </tr>\n",
       "    <tr>\n",
       "      <th>2</th>\n",
       "      <td>80</td>\n",
       "      <td>69</td>\n",
       "      <td>2</td>\n",
       "      <td>0</td>\n",
       "      <td>0</td>\n",
       "      <td>0</td>\n",
       "      <td>0</td>\n",
       "      <td>0</td>\n",
       "      <td>0.000000</td>\n",
       "      <td>0.000000</td>\n",
       "      <td>...</td>\n",
       "      <td>0</td>\n",
       "      <td>20</td>\n",
       "      <td>0.0</td>\n",
       "      <td>0.0</td>\n",
       "      <td>0</td>\n",
       "      <td>0</td>\n",
       "      <td>0.0</td>\n",
       "      <td>0.0</td>\n",
       "      <td>0</td>\n",
       "      <td>0</td>\n",
       "    </tr>\n",
       "    <tr>\n",
       "      <th>3</th>\n",
       "      <td>80</td>\n",
       "      <td>98403702</td>\n",
       "      <td>7</td>\n",
       "      <td>5</td>\n",
       "      <td>377</td>\n",
       "      <td>11595</td>\n",
       "      <td>377</td>\n",
       "      <td>0</td>\n",
       "      <td>53.857143</td>\n",
       "      <td>142.492606</td>\n",
       "      <td>...</td>\n",
       "      <td>1</td>\n",
       "      <td>32</td>\n",
       "      <td>986.0</td>\n",
       "      <td>0.0</td>\n",
       "      <td>986</td>\n",
       "      <td>986</td>\n",
       "      <td>98400000.0</td>\n",
       "      <td>0.0</td>\n",
       "      <td>98400000</td>\n",
       "      <td>98400000</td>\n",
       "    </tr>\n",
       "    <tr>\n",
       "      <th>4</th>\n",
       "      <td>53</td>\n",
       "      <td>30843</td>\n",
       "      <td>1</td>\n",
       "      <td>1</td>\n",
       "      <td>54</td>\n",
       "      <td>70</td>\n",
       "      <td>54</td>\n",
       "      <td>54</td>\n",
       "      <td>54.000000</td>\n",
       "      <td>0.000000</td>\n",
       "      <td>...</td>\n",
       "      <td>0</td>\n",
       "      <td>40</td>\n",
       "      <td>0.0</td>\n",
       "      <td>0.0</td>\n",
       "      <td>0</td>\n",
       "      <td>0</td>\n",
       "      <td>0.0</td>\n",
       "      <td>0.0</td>\n",
       "      <td>0</td>\n",
       "      <td>0</td>\n",
       "    </tr>\n",
       "  </tbody>\n",
       "</table>\n",
       "<p>5 rows × 70 columns</p>\n",
       "</div>"
      ],
      "text/plain": [
       "    Destination Port   Flow Duration   Total Fwd Packets  \\\n",
       "0               7496              43                   1   \n",
       "1              46564              61                   1   \n",
       "2                 80              69                   2   \n",
       "3                 80        98403702                   7   \n",
       "4                 53           30843                   1   \n",
       "\n",
       "    Total Backward Packets  Total Length of Fwd Packets  \\\n",
       "0                        1                            0   \n",
       "1                        1                            6   \n",
       "2                        0                            0   \n",
       "3                        5                          377   \n",
       "4                        1                           54   \n",
       "\n",
       "    Total Length of Bwd Packets   Fwd Packet Length Max  \\\n",
       "0                             6                       0   \n",
       "1                             6                       6   \n",
       "2                             0                       0   \n",
       "3                         11595                     377   \n",
       "4                            70                      54   \n",
       "\n",
       "    Fwd Packet Length Min   Fwd Packet Length Mean   Fwd Packet Length Std  \\\n",
       "0                       0                 0.000000                0.000000   \n",
       "1                       6                 6.000000                0.000000   \n",
       "2                       0                 0.000000                0.000000   \n",
       "3                       0                53.857143              142.492606   \n",
       "4                      54                54.000000                0.000000   \n",
       "\n",
       "   ...   act_data_pkt_fwd   min_seg_size_forward  Active Mean   Active Std  \\\n",
       "0  ...                  0                     40          0.0          0.0   \n",
       "1  ...                  0                     20          0.0          0.0   \n",
       "2  ...                  0                     20          0.0          0.0   \n",
       "3  ...                  1                     32        986.0          0.0   \n",
       "4  ...                  0                     40          0.0          0.0   \n",
       "\n",
       "    Active Max   Active Min   Idle Mean   Idle Std   Idle Max   Idle Min  \n",
       "0            0            0         0.0        0.0          0          0  \n",
       "1            0            0         0.0        0.0          0          0  \n",
       "2            0            0         0.0        0.0          0          0  \n",
       "3          986          986  98400000.0        0.0   98400000   98400000  \n",
       "4            0            0         0.0        0.0          0          0  \n",
       "\n",
       "[5 rows x 70 columns]"
      ]
     },
     "execution_count": 122,
     "metadata": {},
     "output_type": "execute_result"
    }
   ],
   "source": [
    "data_aftcat.head()"
   ]
  },
  {
   "cell_type": "code",
   "execution_count": 3,
   "metadata": {},
   "outputs": [],
   "source": [
    "# ---------------- transform all feature with MinMaxScaler()---------------- \n",
    "mm = MinMaxScaler()\n",
    "data_aftcat_aftmm = pd.DataFrame(mm.fit_transform(data_aftcat))\n",
    "data_aftcat_aftmm.columns = mm.get_feature_names_out()"
   ]
  },
  {
   "cell_type": "code",
   "execution_count": 4,
   "metadata": {},
   "outputs": [
    {
     "data": {
      "text/html": [
       "<div>\n",
       "<style scoped>\n",
       "    .dataframe tbody tr th:only-of-type {\n",
       "        vertical-align: middle;\n",
       "    }\n",
       "\n",
       "    .dataframe tbody tr th {\n",
       "        vertical-align: top;\n",
       "    }\n",
       "\n",
       "    .dataframe thead th {\n",
       "        text-align: right;\n",
       "    }\n",
       "</style>\n",
       "<table border=\"1\" class=\"dataframe\">\n",
       "  <thead>\n",
       "    <tr style=\"text-align: right;\">\n",
       "      <th></th>\n",
       "      <th>Destination Port</th>\n",
       "      <th>Flow Duration</th>\n",
       "      <th>Total Fwd Packets</th>\n",
       "      <th>Total Backward Packets</th>\n",
       "      <th>Total Length of Fwd Packets</th>\n",
       "      <th>Total Length of Bwd Packets</th>\n",
       "      <th>Fwd Packet Length Max</th>\n",
       "      <th>Fwd Packet Length Min</th>\n",
       "      <th>Fwd Packet Length Mean</th>\n",
       "      <th>Fwd Packet Length Std</th>\n",
       "      <th>...</th>\n",
       "      <th>act_data_pkt_fwd</th>\n",
       "      <th>min_seg_size_forward</th>\n",
       "      <th>Active Mean</th>\n",
       "      <th>Active Std</th>\n",
       "      <th>Active Max</th>\n",
       "      <th>Active Min</th>\n",
       "      <th>Idle Mean</th>\n",
       "      <th>Idle Std</th>\n",
       "      <th>Idle Max</th>\n",
       "      <th>Idle Min</th>\n",
       "    </tr>\n",
       "  </thead>\n",
       "  <tbody>\n",
       "    <tr>\n",
       "      <th>0</th>\n",
       "      <td>0.114506</td>\n",
       "      <td>3.666672e-07</td>\n",
       "      <td>0.000000</td>\n",
       "      <td>0.000004</td>\n",
       "      <td>0.000000</td>\n",
       "      <td>1.042243e-08</td>\n",
       "      <td>0.000000</td>\n",
       "      <td>0.000000</td>\n",
       "      <td>0.000000</td>\n",
       "      <td>0.000000</td>\n",
       "      <td>...</td>\n",
       "      <td>0.000000</td>\n",
       "      <td>0.666667</td>\n",
       "      <td>0.00000</td>\n",
       "      <td>0.0</td>\n",
       "      <td>0.00000</td>\n",
       "      <td>0.00000</td>\n",
       "      <td>0.00</td>\n",
       "      <td>0.0</td>\n",
       "      <td>0.00</td>\n",
       "      <td>0.00</td>\n",
       "    </tr>\n",
       "    <tr>\n",
       "      <th>1</th>\n",
       "      <td>0.711292</td>\n",
       "      <td>5.166674e-07</td>\n",
       "      <td>0.000000</td>\n",
       "      <td>0.000004</td>\n",
       "      <td>0.000005</td>\n",
       "      <td>1.042243e-08</td>\n",
       "      <td>0.000516</td>\n",
       "      <td>0.003026</td>\n",
       "      <td>0.002068</td>\n",
       "      <td>0.000000</td>\n",
       "      <td>...</td>\n",
       "      <td>0.000000</td>\n",
       "      <td>0.333333</td>\n",
       "      <td>0.00000</td>\n",
       "      <td>0.0</td>\n",
       "      <td>0.00000</td>\n",
       "      <td>0.00000</td>\n",
       "      <td>0.00</td>\n",
       "      <td>0.0</td>\n",
       "      <td>0.00</td>\n",
       "      <td>0.00</td>\n",
       "    </tr>\n",
       "    <tr>\n",
       "      <th>2</th>\n",
       "      <td>0.001222</td>\n",
       "      <td>5.833341e-07</td>\n",
       "      <td>0.000005</td>\n",
       "      <td>0.000000</td>\n",
       "      <td>0.000000</td>\n",
       "      <td>0.000000e+00</td>\n",
       "      <td>0.000000</td>\n",
       "      <td>0.000000</td>\n",
       "      <td>0.000000</td>\n",
       "      <td>0.000000</td>\n",
       "      <td>...</td>\n",
       "      <td>0.000000</td>\n",
       "      <td>0.333333</td>\n",
       "      <td>0.00000</td>\n",
       "      <td>0.0</td>\n",
       "      <td>0.00000</td>\n",
       "      <td>0.00000</td>\n",
       "      <td>0.00</td>\n",
       "      <td>0.0</td>\n",
       "      <td>0.00</td>\n",
       "      <td>0.00</td>\n",
       "    </tr>\n",
       "    <tr>\n",
       "      <th>3</th>\n",
       "      <td>0.001222</td>\n",
       "      <td>8.200320e-01</td>\n",
       "      <td>0.000031</td>\n",
       "      <td>0.000019</td>\n",
       "      <td>0.000324</td>\n",
       "      <td>2.014134e-05</td>\n",
       "      <td>0.032411</td>\n",
       "      <td>0.000000</td>\n",
       "      <td>0.018560</td>\n",
       "      <td>0.024587</td>\n",
       "      <td>...</td>\n",
       "      <td>0.000005</td>\n",
       "      <td>0.533333</td>\n",
       "      <td>0.00001</td>\n",
       "      <td>0.0</td>\n",
       "      <td>0.00001</td>\n",
       "      <td>0.00001</td>\n",
       "      <td>0.82</td>\n",
       "      <td>0.0</td>\n",
       "      <td>0.82</td>\n",
       "      <td>0.82</td>\n",
       "    </tr>\n",
       "    <tr>\n",
       "      <th>4</th>\n",
       "      <td>0.000810</td>\n",
       "      <td>2.570337e-04</td>\n",
       "      <td>0.000000</td>\n",
       "      <td>0.000004</td>\n",
       "      <td>0.000046</td>\n",
       "      <td>1.215950e-07</td>\n",
       "      <td>0.004642</td>\n",
       "      <td>0.027231</td>\n",
       "      <td>0.018609</td>\n",
       "      <td>0.000000</td>\n",
       "      <td>...</td>\n",
       "      <td>0.000000</td>\n",
       "      <td>0.666667</td>\n",
       "      <td>0.00000</td>\n",
       "      <td>0.0</td>\n",
       "      <td>0.00000</td>\n",
       "      <td>0.00000</td>\n",
       "      <td>0.00</td>\n",
       "      <td>0.0</td>\n",
       "      <td>0.00</td>\n",
       "      <td>0.00</td>\n",
       "    </tr>\n",
       "  </tbody>\n",
       "</table>\n",
       "<p>5 rows × 70 columns</p>\n",
       "</div>"
      ],
      "text/plain": [
       "    Destination Port   Flow Duration   Total Fwd Packets  \\\n",
       "0           0.114506    3.666672e-07            0.000000   \n",
       "1           0.711292    5.166674e-07            0.000000   \n",
       "2           0.001222    5.833341e-07            0.000005   \n",
       "3           0.001222    8.200320e-01            0.000031   \n",
       "4           0.000810    2.570337e-04            0.000000   \n",
       "\n",
       "    Total Backward Packets  Total Length of Fwd Packets  \\\n",
       "0                 0.000004                     0.000000   \n",
       "1                 0.000004                     0.000005   \n",
       "2                 0.000000                     0.000000   \n",
       "3                 0.000019                     0.000324   \n",
       "4                 0.000004                     0.000046   \n",
       "\n",
       "    Total Length of Bwd Packets   Fwd Packet Length Max  \\\n",
       "0                  1.042243e-08                0.000000   \n",
       "1                  1.042243e-08                0.000516   \n",
       "2                  0.000000e+00                0.000000   \n",
       "3                  2.014134e-05                0.032411   \n",
       "4                  1.215950e-07                0.004642   \n",
       "\n",
       "    Fwd Packet Length Min   Fwd Packet Length Mean   Fwd Packet Length Std  \\\n",
       "0                0.000000                 0.000000                0.000000   \n",
       "1                0.003026                 0.002068                0.000000   \n",
       "2                0.000000                 0.000000                0.000000   \n",
       "3                0.000000                 0.018560                0.024587   \n",
       "4                0.027231                 0.018609                0.000000   \n",
       "\n",
       "   ...   act_data_pkt_fwd   min_seg_size_forward  Active Mean   Active Std  \\\n",
       "0  ...           0.000000               0.666667      0.00000          0.0   \n",
       "1  ...           0.000000               0.333333      0.00000          0.0   \n",
       "2  ...           0.000000               0.333333      0.00000          0.0   \n",
       "3  ...           0.000005               0.533333      0.00001          0.0   \n",
       "4  ...           0.000000               0.666667      0.00000          0.0   \n",
       "\n",
       "    Active Max   Active Min  Idle Mean   Idle Std   Idle Max   Idle Min  \n",
       "0      0.00000      0.00000       0.00        0.0       0.00       0.00  \n",
       "1      0.00000      0.00000       0.00        0.0       0.00       0.00  \n",
       "2      0.00000      0.00000       0.00        0.0       0.00       0.00  \n",
       "3      0.00001      0.00001       0.82        0.0       0.82       0.82  \n",
       "4      0.00000      0.00000       0.00        0.0       0.00       0.00  \n",
       "\n",
       "[5 rows x 70 columns]"
      ]
     },
     "execution_count": 4,
     "metadata": {},
     "output_type": "execute_result"
    }
   ],
   "source": [
    "data_aftcat_aftmm.head()"
   ]
  },
  {
   "cell_type": "code",
   "execution_count": 5,
   "metadata": {},
   "outputs": [],
   "source": [
    "# -------------------------functions--------------\n",
    "# function score_mean_std: calculate the average and std of scores\n",
    "def score_mean_std(score_sf):\n",
    "    index_a1 = []\n",
    "    index_a2 = []\n",
    "\n",
    "    for i in range(score_sf.shape[1]):\n",
    "        index_a1.append(np.average(score_sf[score_sf.columns[i]]))\n",
    "        index_a2.append(np.std(score_sf[score_sf.columns[i]]))\n",
    "\n",
    "    index_a1 = pd.DataFrame(index_a1, index = score_sf.columns)\n",
    "    index_a2 = pd.DataFrame(index_a2, index = score_sf.columns)\n",
    "    #print(index_a1.T)\n",
    "    #print(index_a2.T)\n",
    "    re = pd.concat([index_a1.T,index_a2.T],axis=0)\n",
    "    re.index = [\"avg\",\"std\"]\n",
    "    #print(re)\n",
    "    return re"
   ]
  },
  {
   "cell_type": "code",
   "execution_count": 6,
   "metadata": {},
   "outputs": [],
   "source": [
    "def train_model(sm, se, model, X, y):\n",
    "    #print(model, \"\\n\")\n",
    "    #pipe_steps = [('smo',sm),('mm',m),('selector',se),('model',model)]\n",
    "    pipe_steps = [('smo',sm),('selector',se),('model',model)]\n",
    "    id_pipeline = Pipeline(steps=pipe_steps)\n",
    "\n",
    "    # evaluate the pipeline using the crossvalidation technique defined in cv\n",
    "\n",
    "    # ------------------- score ------------------------------------\n",
    "    scoring = {'f1', 'precision', 'accuracy',\n",
    "            'recall', 'roc_auc'}\n",
    "\n",
    "    score_sf = cross_validate(id_pipeline, X, y.values.ravel(),cv=10,scoring=scoring, n_jobs=-1)\n",
    "    score_sf_re = score_mean_std(pd.DataFrame(score_sf))\n",
    "\n",
    "    return score_sf,score_sf_re"
   ]
  },
  {
   "cell_type": "markdown",
   "metadata": {},
   "source": [
    "## train model with default parameters"
   ]
  },
  {
   "cell_type": "code",
   "execution_count": 7,
   "metadata": {},
   "outputs": [],
   "source": [
    "smo = SMOTE()\n",
    "selector = VarianceThreshold(np.median(data_aftcat_aftmm.var().values))\n",
    "#model_rf = RandomForestClassifier(random_state = 90, min_samples_split=2,n_estimators=61,max_depth=24, max_features=27,min_samples_leaf=1, n_jobs=-1)\n",
    "#model_grb = GradientBoostingClassifier(max_features=3,learning_rate=0.1,n_estimators=130,min_samples_split=100,min_samples_leaf=7,max_depth=15,random_state = 10)\n",
    "model_rf = RandomForestClassifier(random_state = 90, n_jobs=-1)"
   ]
  },
  {
   "cell_type": "code",
   "execution_count": 8,
   "metadata": {},
   "outputs": [
    {
     "name": "stdout",
     "output_type": "stream",
     "text": [
      "RandomForestClassifier(n_jobs=-1, random_state=90)\n",
      "score_sf_re_rf: \n",
      "      fit_time  score_time  test_roc_auc  test_accuracy   test_f1  \\\n",
      "avg  16.80007    0.169732      0.999592       0.997899  0.988424   \n",
      "std   3.64961    0.012313      0.000800       0.000953  0.005250   \n",
      "\n",
      "     test_precision  test_recall  \n",
      "avg        0.986287     0.990637  \n",
      "std        0.007091     0.008315  \n"
     ]
    }
   ],
   "source": [
    "# -------------------- model: RF (repeat several times for parameters tuning)-----------------------\n",
    "print(model_rf)\n",
    "score_sf_rf,score_sf_re_rf = train_model(smo, selector, model_rf, data_aftcat_aftmm, data_aftcat_y)\n",
    "print(\"score_sf_re_rf: \\n\", pd.DataFrame(score_sf_re_rf))\n",
    "RF = pd.DataFrame(score_sf_rf['test_f1'],columns = [\"RF\"])\n",
    "#print(RF)"
   ]
  },
  {
   "cell_type": "markdown",
   "metadata": {},
   "source": [
    "## Round #1 n_estimators"
   ]
  },
  {
   "cell_type": "code",
   "execution_count": 9,
   "metadata": {},
   "outputs": [
    {
     "name": "stdout",
     "output_type": "stream",
     "text": [
      "RandomForestClassifier(n_jobs=-1, random_state=90)\n",
      "0.9904151126906287 115\n"
     ]
    }
   ],
   "source": [
    "print(model_rf)\n",
    "scorel = []\n",
    "for i in range(1,200):\n",
    "    model_rf = RandomForestClassifier(n_estimators=i,n_jobs=-1,random_state = 90)\n",
    "    score_sf_rf,score_sf_re_rf = train_model(smo, selector, model_rf, data_aftcat_aftmm, data_aftcat_y)\n",
    "    #print(\"score_sf_re_rf: \\n\", pd.DataFrame(score_sf_re_rf))\n",
    "    scorel.append(np.array(score_sf_rf['test_f1']).mean())\n",
    "    #print(np.array(score_sf_rf['test_f1']).mean())\n",
    "print(max(scorel), scorel.index(max(scorel))+1)"
   ]
  },
  {
   "cell_type": "markdown",
   "metadata": {},
   "source": [
    "## Round #2 max_depth"
   ]
  },
  {
   "cell_type": "code",
   "execution_count": 10,
   "metadata": {},
   "outputs": [
    {
     "name": "stdout",
     "output_type": "stream",
     "text": [
      "0.9899795639098166 23\n"
     ]
    }
   ],
   "source": [
    "scorel = []\n",
    "for i in range(1,40):\n",
    "    #print(i)\n",
    "    model_rf = RandomForestClassifier(max_depth=i, n_estimators=115,n_jobs=-1,random_state = 90)\n",
    "    #print(model_rf)\n",
    "    score_sf_rf,score_sf_re_rf = train_model(smo, selector, model_rf, data_aftcat_aftmm, data_aftcat_y)\n",
    "    #print(score_sf_rf)\n",
    "    scorel.append(np.array(score_sf_rf['test_f1']).mean())\n",
    "    #print(\"max scorel:\",max(scorel))\n",
    "    #print(scorel.index(max(scorel))+1)\n",
    "print(max(scorel), scorel.index(max(scorel))+1)    "
   ]
  },
  {
   "cell_type": "markdown",
   "metadata": {},
   "source": [
    "## Round #3 max_features"
   ]
  },
  {
   "cell_type": "code",
   "execution_count": 11,
   "metadata": {},
   "outputs": [
    {
     "name": "stdout",
     "output_type": "stream",
     "text": [
      "0.9924246185965855 17\n"
     ]
    }
   ],
   "source": [
    "scorel = []\n",
    "for i in range(1,30):\n",
    "    model_rf = RandomForestClassifier(max_features=i, max_depth=23, n_estimators=115,n_jobs=-1,random_state = 90)\n",
    "    score_sf_rf,score_sf_re_rf = train_model(smo, selector, model_rf, data_aftcat_aftmm, data_aftcat_y)\n",
    "    scorel.append(np.array(score_sf_rf['test_f1']).mean())\n",
    "print(max(scorel), scorel.index(max(scorel))+1)   "
   ]
  },
  {
   "cell_type": "markdown",
   "metadata": {},
   "source": [
    "## Round #4 min_samples_leaf"
   ]
  },
  {
   "cell_type": "code",
   "execution_count": 12,
   "metadata": {},
   "outputs": [
    {
     "name": "stdout",
     "output_type": "stream",
     "text": [
      "0.9908665440963077 1\n"
     ]
    }
   ],
   "source": [
    "scorel = []\n",
    "for i in range(1,30):\n",
    "    model_rf = RandomForestClassifier(min_samples_leaf=i,max_features=17, max_depth=23, n_estimators=115,n_jobs=-1,random_state = 90)\n",
    "    score_sf_rf,score_sf_re_rf = train_model(smo, selector, model_rf, data_aftcat_aftmm, data_aftcat_y)\n",
    "    scorel.append(np.array(score_sf_rf['test_f1']).mean())\n",
    "print(max(scorel), scorel.index(max(scorel))+1)   "
   ]
  },
  {
   "cell_type": "markdown",
   "metadata": {},
   "source": [
    "## Round #5 min_samples_split"
   ]
  },
  {
   "cell_type": "code",
   "execution_count": 13,
   "metadata": {},
   "outputs": [
    {
     "name": "stdout",
     "output_type": "stream",
     "text": [
      "0.9917594301265188 1\n"
     ]
    }
   ],
   "source": [
    "scorel = []\n",
    "for i in range(2,15):\n",
    "    #print(i)\n",
    "    model_rf = RandomForestClassifier(min_samples_split=i, min_samples_leaf=1, max_features=17, max_depth=23, n_estimators=115,n_jobs=-1,random_state = 90)\n",
    "    #print(model_rf)\n",
    "    score_sf_rf,score_sf_re_rf = train_model(smo, selector, model_rf, data_aftcat_aftmm, data_aftcat_y)\n",
    "    #print(score_sf_rf)\n",
    "    scorel.append(np.array(score_sf_rf['test_f1']).mean())\n",
    "print(max(scorel), scorel.index(max(scorel))+1)  "
   ]
  },
  {
   "cell_type": "markdown",
   "metadata": {},
   "source": [
    "## Round #6 criterion"
   ]
  },
  {
   "cell_type": "code",
   "execution_count": 14,
   "metadata": {},
   "outputs": [
    {
     "name": "stdout",
     "output_type": "stream",
     "text": [
      "{'fit_time': array([40.82344675, 41.11998391, 40.48574305, 40.27172995, 34.71252728,\n",
      "       35.94078994, 35.71828103, 35.87124681, 20.31750798, 19.28667903]), 'score_time': array([0.14280391, 0.17595887, 0.13775373, 0.13632512, 0.13632083,\n",
      "       0.13877106, 0.1453948 , 0.14659023, 0.17603683, 0.24943089]), 'test_roc_auc': array([0.99748543, 0.99992563, 0.9999405 , 0.99992464, 0.99978383,\n",
      "       0.99980655, 0.99995933, 0.99999603, 0.99989484, 0.99993849]), 'test_accuracy': array([0.9959596 , 0.99919192, 0.9979798 , 0.99878788, 0.9979798 ,\n",
      "       0.99878739, 0.99878739, 0.99878739, 0.99878739, 0.99919159]), 'test_f1': array([0.97777778, 0.99555556, 0.98886414, 0.99331849, 0.98886414,\n",
      "       0.99334812, 0.99328859, 0.99334812, 0.99328859, 0.99553571]), 'test_precision': array([0.97777778, 0.99115044, 0.98666667, 0.99111111, 0.98666667,\n",
      "       0.98678414, 0.9955157 , 0.98678414, 0.9955157 , 0.99553571]), 'test_recall': array([0.97777778, 1.        , 0.99107143, 0.99553571, 0.99107143,\n",
      "       1.        , 0.99107143, 1.        , 0.99107143, 0.99553571])} \n",
      "\n",
      "score_sf_re_rf: \n",
      "       fit_time  score_time  test_roc_auc  test_accuracy   test_f1  \\\n",
      "avg  34.454794    0.158539      0.999666       0.998424  0.991319   \n",
      "std   7.687688    0.033532      0.000729       0.000911  0.005011   \n",
      "\n",
      "     test_precision  test_recall  \n",
      "avg        0.989351     0.993313  \n",
      "std        0.005312     0.006368  \n"
     ]
    }
   ],
   "source": [
    "model_rf = RandomForestClassifier(criterion='gini',min_samples_split=2, min_samples_leaf=1, max_features=17, max_depth=23, n_estimators=115,n_jobs=-1,random_state = 90)\n",
    "score_sf_rf,score_sf_re_rf = train_model(smo, selector, model_rf, data_aftcat_aftmm, data_aftcat_y)\n",
    "print(score_sf_rf,\"\\n\")\n",
    "print(\"score_sf_re_rf: \\n\",score_sf_re_rf)"
   ]
  },
  {
   "cell_type": "code",
   "execution_count": 15,
   "metadata": {},
   "outputs": [
    {
     "name": "stdout",
     "output_type": "stream",
     "text": [
      "{'fit_time': array([31.04611421, 31.48563576, 31.26496005, 31.7279799 , 32.8314271 ,\n",
      "       33.61550593, 33.41234779, 33.54063797, 15.93730116, 15.39619493]), 'score_time': array([0.12671995, 0.13765597, 0.14214182, 0.17104006, 0.13407993,\n",
      "       0.17059016, 0.16328406, 0.19950986, 0.12885118, 0.09481096]), 'test_roc_auc': array([0.99751704, 0.99992761, 0.99994546, 0.99992067, 0.99982944,\n",
      "       0.9996994 , 0.99996528, 0.99999603, 0.99986409, 0.99991071]), 'test_accuracy': array([0.99676768, 0.99919192, 0.99838384, 0.99919192, 0.99838384,\n",
      "       0.99797898, 0.99919159, 0.99878739, 0.99838319, 0.99878739]), 'test_f1': array([0.98214286, 0.99555556, 0.99111111, 0.99555556, 0.99107143,\n",
      "       0.98891353, 0.99553571, 0.99331849, 0.99107143, 0.99331849]), 'test_precision': array([0.98654709, 0.99115044, 0.98672566, 0.99115044, 0.99107143,\n",
      "       0.98237885, 0.99553571, 0.99111111, 0.99107143, 0.99111111]), 'test_recall': array([0.97777778, 1.        , 0.99553571, 1.        , 0.99107143,\n",
      "       0.99553571, 0.99553571, 0.99553571, 0.99107143, 0.99553571])} \n",
      "\n",
      "score_sf_re_rf: \n",
      "       fit_time  score_time  test_roc_auc  test_accuracy   test_f1  \\\n",
      "avg  29.025810    0.146868      0.999658       0.998505  0.991759   \n",
      "std   6.743121    0.028105      0.000718       0.000701  0.003872   \n",
      "\n",
      "     test_precision  test_recall  \n",
      "avg        0.989785     0.993760  \n",
      "std        0.003440     0.006029  \n"
     ]
    }
   ],
   "source": [
    "model_rf = RandomForestClassifier(criterion='entropy',min_samples_split=2, min_samples_leaf=1, max_features=17, max_depth=23, n_estimators=115,n_jobs=-1,random_state = 90)\n",
    "score_sf_rf,score_sf_re_rf = train_model(smo, selector, model_rf, data_aftcat_aftmm, data_aftcat_y)\n",
    "print(score_sf_rf,\"\\n\")\n",
    "print(\"score_sf_re_rf: \\n\",score_sf_re_rf)"
   ]
  },
  {
   "cell_type": "markdown",
   "metadata": {},
   "source": [
    "# model_rf = RandomForestClassifier(criterion='entropy',min_samples_split=2, min_samples_leaf=1, max_features=17, max_depth=23, n_estimators=115,n_jobs=-1,random_state = 90)"
   ]
  }
 ],
 "metadata": {
  "interpreter": {
   "hash": "2c701a3eaa56c792080692be7ed804fc7337106df51979399b9629b6524716ca"
  },
  "kernelspec": {
   "display_name": "Python 3 (ipykernel)",
   "language": "python",
   "name": "python3"
  },
  "language_info": {
   "codemirror_mode": {
    "name": "ipython",
    "version": 3
   },
   "file_extension": ".py",
   "mimetype": "text/x-python",
   "name": "python",
   "nbconvert_exporter": "python",
   "pygments_lexer": "ipython3",
   "version": "3.9.7"
  }
 },
 "nbformat": 4,
 "nbformat_minor": 2
}
