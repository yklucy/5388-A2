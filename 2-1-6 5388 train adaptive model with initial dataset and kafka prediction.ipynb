{
 "cells": [
  {
   "cell_type": "code",
   "execution_count": 41,
   "id": "56efde03",
   "metadata": {},
   "outputs": [],
   "source": [
    "import numpy as np\n",
    "import pandas as pd\n",
    "from pandas.core.indexes.base import maybe_extract_name\n",
    "import river\n",
    "\n",
    "from river import compose\n",
    "from river import preprocessing\n",
    "from river import linear_model\n",
    "from river import metrics\n",
    "from river import evaluate\n",
    "from river import neighbors\n",
    "from sklearn.ensemble import RandomForestClassifier\n",
    "\n",
    "from kafka import KafkaConsumer\n",
    "import skmultiflow\n"
   ]
  },
  {
   "cell_type": "code",
   "execution_count": 42,
   "id": "610949f6",
   "metadata": {},
   "outputs": [],
   "source": [
    "# write the print content to file \n",
    "f = open(\"./2-1-6 predictive scores for an adaptive model with initial data.log\",'w+')\n",
    "f2 = open(\"./2-1-6 predictive scores for an adaptive mode with kafka data.log\",'w+')\n"
   ]
  },
  {
   "cell_type": "code",
   "execution_count": 43,
   "id": "af520fc8",
   "metadata": {},
   "outputs": [],
   "source": [
    "# ^^^^^^^^^^^^^^^^^^^^^^^^^^^ get data from sklearn ^^^^^^^^^^^^^^^^^^^^^^^^^^^\n",
    "# author:           Kun Yan\n",
    "# student number:   300259303\n",
    "# data:             2021-10-30\n",
    "# Python version:   3.9.7\n",
    "# ^^^^^^^^^^^^^^^^^^^^^^^^^^^^^^^^^^^^^^^^^^^^^^^^^^^^^^^^^^^^^^^^^^^^^^^^^^^^^^\n",
    "\n",
    "# read from sklearn\n",
    "\n",
    "\n",
    "data_aftcat = pd.read_csv(r\"./2-1-1 5388 data_aftcat.csv\")\n",
    "data_y = pd.read_csv(r\"./2-1-1 5388 data_aftcat label.csv\")\n",
    "data = pd.read_csv(r\"./2-1-1 5388 data_aftcat_full_no label.csv\")\n",
    "\n",
    "d_col = data.columns\n",
    "y_col = data_y.columns\n",
    "# change from pd.DataFrame to np.array\n",
    "data = np.array(data)\n",
    "data_y = np.array(data_y)"
   ]
  },
  {
   "cell_type": "code",
   "execution_count": 44,
   "id": "9e2694ab",
   "metadata": {},
   "outputs": [],
   "source": [
    "# ^^^^^^^^^^^^^^^^^^^^^ train a model using river ^^^^^^^^^^^^^^^^^\n",
    "# author:           Kun Yan\n",
    "# student number:   300259303\n",
    "# data:             2021-10-30\n",
    "# Python version:   3.9.7\n",
    "# ^^^^^^^^^^^^^^^^^^^^^^^^^^^^^^^^^^^^^^^^^^^^^^^^^^^^^^^^^^^^^^^^^^^^^^^^^^^^^^\n",
    "# train an adaptive model and prediction\n",
    "mm = river.preprocessing.MinMaxScaler()\n",
    "#selector = river.feature_selection.VarianceThreshold()\n",
    "#model_adaptive = tree.HoeffdingAdaptiveTreeClassifier(grace_period=100,split_confidence=1e-5,leaf_prediction='nb',nb_threshold=10,seed=0)\n",
    "model_adaptive = neighbors.KNNClassifier() # window_size (int) – defaults to 1000\n",
    "#model = compose.Pipeline(mm,selector,model_adaptive)\n",
    "model = compose.Pipeline(mm,model_adaptive)\n",
    "#model = river.imblearn.RandomOverSampler((mm | model_adaptive),desired_dist={False: 0.5, True: 0.5})\n"
   ]
  },
  {
   "cell_type": "code",
   "execution_count": 45,
   "id": "471a0169",
   "metadata": {},
   "outputs": [],
   "source": [
    "metric_acc = metrics.Accuracy()\n",
    "metric_f1 = metrics.F1()\n"
   ]
  },
  {
   "cell_type": "code",
   "execution_count": 46,
   "id": "c832f5f2",
   "metadata": {},
   "outputs": [
    {
     "name": "stdout",
     "output_type": "stream",
     "text": [
      "metric_acc: Accuracy: 96.97%\n",
      "metric_f1 F1: 0.833037\n",
      "i: 24745\n"
     ]
    }
   ],
   "source": [
    "i = 0\n",
    "for xi, yi in zip(data, data_y):\n",
    "    xi = dict(zip(d_col, xi))   # transfor array to dict\n",
    "    #yi = dict(zip(y_col,yi))\n",
    "    yi = yi[0]\n",
    "    #print(yi)\n",
    "    #xi_scaled = model.learn_one(xi).transform_one(xi)\n",
    "    yi_pred = model.predict_one(xi)  # make a prediction\n",
    "    metric_acc = metric_acc.update(yi,yi_pred) # update the metric\n",
    "    metric_f1 = metric_f1.update(yi,yi_pred)\n",
    "    model = model.learn_one(xi,yi) # make the model learn\n",
    "    i=i+1\n",
    "print(\"metric_acc:\",metric_acc)\n",
    "print(\"metric_f1\",metric_f1)\n",
    "print(\"i:\",i)\n",
    "\n",
    "print(\"metric_acc:\",metric_acc,file=f)\n",
    "print(\"metric_f1\",metric_f1,file=f)\n",
    "print(\"i:\",i,file=f)\n"
   ]
  },
  {
   "cell_type": "code",
   "execution_count": 47,
   "id": "b5509a70",
   "metadata": {},
   "outputs": [],
   "source": [
    "# ^^^^^^^^^^^^^^^^^^^^^^^^^^^ read kafka data ^^^^^^^^^^^^^^^^^^^^^^^^^^^^^^^^^^^\n",
    "# author:           Kun Yan\n",
    "# student number:   300259303\n",
    "# data:             2021-10-30\n",
    "# Python version:   3.9.7\n",
    "# ^^^^^^^^^^^^^^^^^^^^^^^^^^^^^^^^^^^^^^^^^^^^^^^^^^^^^^^^^^^^^^^^^^^^^^^^^^^^^^\n",
    "# instantiate the KafkaConsumer Class using the arguments mentioned.\n",
    "# do not change any arguments other than the first positional argument.\n",
    "consumer = KafkaConsumer(\n",
    "    'task1',   # change this to \"task2\" for the IOT Botnet Detection  ---- important ----\n",
    "    bootstrap_servers=\"34.130.121.39:9092\",\n",
    "    sasl_plain_username=\"student\",\n",
    "    sasl_plain_password=\"uottawa\",\n",
    "    security_protocol=\"SASL_PLAINTEXT\",\n",
    "    sasl_mechanism=\"PLAIN\",\n",
    "    auto_offset_reset='earliest',\n",
    "    enable_auto_commit=False\n",
    ")"
   ]
  },
  {
   "cell_type": "code",
   "execution_count": 48,
   "id": "332b7776",
   "metadata": {},
   "outputs": [],
   "source": [
    "metric_acc_kafka = metrics.Accuracy()\n",
    "metric_f1_kafka = metrics.F1()"
   ]
  },
  {
   "cell_type": "code",
   "execution_count": 49,
   "id": "289a28f5",
   "metadata": {},
   "outputs": [
    {
     "name": "stdout",
     "output_type": "stream",
     "text": [
      "Drift detected at index 1181\n",
      "Drift detected at index 4310\n",
      "Drift detected at index 5414\n",
      "Drift detected at index 7014\n",
      "Drift detected at index 8650\n",
      "Drift detected at index 9690\n",
      "Drift detected at index 10985\n",
      "Drift detected at index 12855\n",
      "Drift detected at index 13966\n",
      "Drift detected at index 15550\n",
      "Drift detected at index 16785\n",
      "Drift detected at index 17816\n",
      "Drift detected at index 19297\n",
      "Drift detected at index 20466\n",
      "Drift detected at index 22718\n",
      "Drift detected at index 24039\n",
      "Drift detected at index 26119\n",
      "Drift detected at index 27244\n",
      "Drift detected at index 28646\n",
      "Drift detected at index 29712\n",
      "Drift detected at index 30886\n",
      "Drift detected at index 31986\n",
      "Drift detected at index 33104\n",
      "Drift detected at index 35332\n",
      "Drift detected at index 36373\n",
      "Drift detected at index 37497\n",
      "Drift detected at index 38844\n",
      "Drift detected at index 39952\n",
      "Drift detected at index 41529\n",
      "Drift detected at index 42608\n",
      "Drift detected at index 44136\n",
      "Drift detected at index 45166\n",
      "Drift detected at index 46963\n",
      "Drift detected at index 48077\n",
      "Drift detected at index 49252\n",
      "Drift detected at index 50488\n",
      "Drift detected at index 51644\n",
      "Drift detected at index 53044\n",
      "Drift detected at index 54072\n",
      "Drift detected at index 55401\n",
      "Drift detected at index 57291\n",
      "Drift detected at index 58651\n",
      "Drift detected at index 59715\n",
      "Drift detected at index 60956\n",
      "Drift detected at index 62421\n",
      "Drift detected at index 64057\n",
      "Drift detected at index 65071\n",
      "Drift detected at index 67670\n",
      "Drift detected at index 68763\n",
      "Drift detected at index 70323\n",
      "Drift detected at index 71407\n",
      "Drift detected at index 72632\n",
      "Drift detected at index 74297\n",
      "Drift detected at index 75732\n",
      "Drift detected at index 77314\n",
      "Drift detected at index 78579\n",
      "Drift detected at index 80110\n",
      "Drift detected at index 81165\n",
      "Drift detected at index 82773\n",
      "Drift detected at index 83787\n",
      "Drift detected at index 85270\n",
      "Drift detected at index 86584\n",
      "Drift detected at index 90183\n",
      "Drift detected at index 91457\n",
      "Drift detected at index 92830\n",
      "Drift detected at index 93836\n",
      "Drift detected at index 94954\n",
      "Drift detected at index 96364\n",
      "Drift detected at index 97651\n",
      "Drift detected at index 99135\n"
     ]
    }
   ],
   "source": [
    "# Data Stream flowing in. - - - Dict()\n",
    "i = 0\n",
    "# concept drift detection\n",
    "kswin = river.drift.KSWIN(window_size = 1000)\n",
    "drifts_ksw = []\n",
    "nan=0\n",
    "inf=0\n",
    "for message in consumer:\n",
    "    #print(message)\n",
    "    tmp_data=eval(message.value.decode(errors='ignore'))   #dict()\n",
    "    if (tmp_data['Label']=='BENIGN'):\n",
    "        dict_y = 0\n",
    "    else:\n",
    "        dict_y = 1        \n",
    "    #print(\"dict_y:\",dict_y)\n",
    "    del tmp_data['Label']\n",
    "    dict_data = tmp_data\n",
    "    #print(\"dict_data\",dict_data)\n",
    "    #print(\"items:\",tmp_data.items())\n",
    "    #print(\"values:\",tmp_data.values())\n",
    "\n",
    "    # prediction and train an adaptive model\n",
    "    yi_pred = model.predict_one(dict_data)  # make a prediction\n",
    "    metric_acc_kafka = metric_acc_kafka.update(dict_y,yi_pred) # update the metric\n",
    "    metric_f1_kafka = metric_f1_kafka.update(dict_y,yi_pred)\n",
    "    model = model.learn_one(dict_data,dict_y) # make the model learn\n",
    "\n",
    "    # concept drift detection\n",
    "    in_drift, in_warning = kswin.update(message.value)\n",
    "    if in_drift:\n",
    "        print(f'Drift detected at index {i}')\n",
    "        print(f'Drift detected at index {i}',file=f2)\n",
    "        drifts_ksw.append(i)\n",
    "        kswin.reset()   # As a best practice, we reset the detector   \n",
    "\n",
    "    if i == 100000:\n",
    "       break       \n",
    "    i += 1"
   ]
  },
  {
   "cell_type": "code",
   "execution_count": 50,
   "id": "45c665c7",
   "metadata": {},
   "outputs": [
    {
     "name": "stdout",
     "output_type": "stream",
     "text": [
      "metric_acc: Accuracy: 96.80%\n",
      "metric_f1 F1: 0.837577\n",
      "i: 100000\n"
     ]
    }
   ],
   "source": [
    "print(\"metric_acc:\",metric_acc_kafka)\n",
    "print(\"metric_f1\",metric_f1_kafka)\n",
    "print(\"i:\",i)\n",
    "\n",
    "print(\"metric_acc:\",metric_acc_kafka,file=f2)\n",
    "print(\"metric_f1\",metric_f1_kafka,file=f2)\n",
    "print(\"i:\",i,file=f2)"
   ]
  }
 ],
 "metadata": {
  "kernelspec": {
   "display_name": "Python 3 (ipykernel)",
   "language": "python",
   "name": "python3"
  },
  "language_info": {
   "codemirror_mode": {
    "name": "ipython",
    "version": 3
   },
   "file_extension": ".py",
   "mimetype": "text/x-python",
   "name": "python",
   "nbconvert_exporter": "python",
   "pygments_lexer": "ipython3",
   "version": "3.9.7"
  }
 },
 "nbformat": 4,
 "nbformat_minor": 5
}
