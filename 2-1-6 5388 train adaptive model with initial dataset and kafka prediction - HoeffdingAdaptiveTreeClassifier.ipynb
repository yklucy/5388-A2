{
 "cells": [
  {
   "cell_type": "code",
   "execution_count": 5,
   "id": "2c661855",
   "metadata": {},
   "outputs": [],
   "source": [
    "import numpy as np\n",
    "import pandas as pd\n",
    "import river\n",
    "\n",
    "from river import compose\n",
    "from river import preprocessing\n",
    "from river import linear_model\n",
    "from river import metrics\n",
    "from river import evaluate\n",
    "from river import neighbors\n",
    "from river import tree\n",
    "from sklearn.ensemble import RandomForestClassifier\n",
    "\n",
    "from kafka import KafkaConsumer\n",
    "import skmultiflow"
   ]
  },
  {
   "cell_type": "code",
   "execution_count": 2,
   "id": "83833415",
   "metadata": {},
   "outputs": [],
   "source": [
    "# write the print content to file \n",
    "f = open(\"./2-1-6 predictive scores for an adaptive model with initial data.log\",'w+')\n",
    "f2 = open(\"./2-1-6 predictive scores for an adaptive mode with kafka data.log\",'w+')"
   ]
  },
  {
   "cell_type": "code",
   "execution_count": 3,
   "id": "1dcae16b",
   "metadata": {},
   "outputs": [],
   "source": [
    "# ^^^^^^^^^^^^^^^^^^^^^^^^^^^ get data from sklearn ^^^^^^^^^^^^^^^^^^^^^^^^^^^\n",
    "# author:           Kun Yan\n",
    "# student number:   300259303\n",
    "# data:             2021-10-30\n",
    "# Python version:   3.9.7\n",
    "# ^^^^^^^^^^^^^^^^^^^^^^^^^^^^^^^^^^^^^^^^^^^^^^^^^^^^^^^^^^^^^^^^^^^^^^^^^^^^^^\n",
    "\n",
    "# read from sklearn\n",
    "\n",
    "\n",
    "data_aftcat = pd.read_csv(r\"./2-1-1 5388 data_aftcat.csv\")\n",
    "data_y = pd.read_csv(r\"./2-1-1 5388 data_aftcat label.csv\")\n",
    "data = pd.read_csv(r\"./2-1-1 5388 data_aftcat_full_no label.csv\")\n",
    "\n",
    "d_col = data.columns\n",
    "y_col = data_y.columns\n",
    "# change from pd.DataFrame to np.array\n",
    "data = np.array(data)\n",
    "data_y = np.array(data_y)"
   ]
  },
  {
   "cell_type": "code",
   "execution_count": 6,
   "id": "97523fd2",
   "metadata": {},
   "outputs": [],
   "source": [
    "# ^^^^^^^^^^^^^^^^^^^^^ train a model using river ^^^^^^^^^^^^^^^^^\n",
    "# author:           Kun Yan\n",
    "# student number:   300259303\n",
    "# data:             2021-10-30\n",
    "# Python version:   3.9.7\n",
    "# ^^^^^^^^^^^^^^^^^^^^^^^^^^^^^^^^^^^^^^^^^^^^^^^^^^^^^^^^^^^^^^^^^^^^^^^^^^^^^^\n",
    "# train an adaptive model and prediction\n",
    "mm = river.preprocessing.MinMaxScaler()\n",
    "#selector = river.feature_selection.VarianceThreshold()\n",
    "model_adaptive = tree.HoeffdingAdaptiveTreeClassifier(grace_period=100,split_confidence=1e-5,leaf_prediction='nb',nb_threshold=10,seed=0)\n",
    "#model_adaptive = neighbors.KNNClassifier() # window_size (int) – defaults to 1000\n",
    "#model = compose.Pipeline(mm,selector,model_adaptive)\n",
    "model = compose.Pipeline(mm,model_adaptive)\n",
    "#model = river.imblearn.RandomOverSampler((mm | selector| model_adaptive),desired_dist={False: 0.5, True: 0.5})"
   ]
  },
  {
   "cell_type": "code",
   "execution_count": 7,
   "id": "0162c471",
   "metadata": {},
   "outputs": [],
   "source": [
    "metric_acc = metrics.Accuracy()\n",
    "metric_f1 = metrics.F1()"
   ]
  },
  {
   "cell_type": "code",
   "execution_count": 8,
   "id": "adbe64d7",
   "metadata": {},
   "outputs": [],
   "source": [
    "i = 0\n",
    "for xi, yi in zip(data, data_y):\n",
    "    xi = dict(zip(d_col, xi))   # transfor array to dict\n",
    "    #yi = dict(zip(y_col,yi))\n",
    "    yi = yi[0]\n",
    "    #print(yi)\n",
    "    #xi_scaled = model.learn_one(xi).transform_one(xi)\n",
    "    yi_pred = model.predict_one(xi)  # make a prediction\n",
    "    metric_acc = metric_acc.update(yi,yi_pred) # update the metric\n",
    "    metric_f1 = metric_f1.update(yi,yi_pred)\n",
    "    model = model.learn_one(xi,yi) # make the model learn\n",
    "    i=i+1"
   ]
  },
  {
   "cell_type": "code",
   "execution_count": 9,
   "id": "67ac0279",
   "metadata": {},
   "outputs": [
    {
     "name": "stdout",
     "output_type": "stream",
     "text": [
      "metric_acc: Accuracy: 86.36%\n",
      "metric_f1 F1: 0.534235\n",
      "i: 24745\n"
     ]
    }
   ],
   "source": [
    "print(\"metric_acc:\",metric_acc)\n",
    "print(\"metric_f1\",metric_f1)\n",
    "print(\"i:\",i)\n",
    "\n",
    "print(\"metric_acc:\",metric_acc,file=f)\n",
    "print(\"metric_f1\",metric_f1,file=f)\n",
    "print(\"i:\",i,file=f)"
   ]
  },
  {
   "cell_type": "code",
   "execution_count": 10,
   "id": "f57745d3",
   "metadata": {},
   "outputs": [],
   "source": [
    "# ^^^^^^^^^^^^^^^^^^^^^^^^^^^ read kafka data and detect concept drift^^^^^^^^^^\n",
    "# author:           Kun Yan\n",
    "# student number:   300259303\n",
    "# data:             2021-10-30\n",
    "# Python version:   3.9.7\n",
    "# ^^^^^^^^^^^^^^^^^^^^^^^^^^^^^^^^^^^^^^^^^^^^^^^^^^^^^^^^^^^^^^^^^^^^^^^^^^^^^^\n",
    "# instantiate the KafkaConsumer Class using the arguments mentioned.\n",
    "# do not change any arguments other than the first positional argument.\n",
    "consumer = KafkaConsumer(\n",
    "    'task1',   # change this to \"task2\" for the IOT Botnet Detection  ---- important ----\n",
    "    bootstrap_servers=\"34.130.121.39:9092\",\n",
    "    sasl_plain_username=\"student\",\n",
    "    sasl_plain_password=\"uottawa\",\n",
    "    security_protocol=\"SASL_PLAINTEXT\",\n",
    "    sasl_mechanism=\"PLAIN\",\n",
    "    auto_offset_reset='earliest',\n",
    "    enable_auto_commit=False\n",
    ")"
   ]
  },
  {
   "cell_type": "code",
   "execution_count": 11,
   "id": "14176e9f",
   "metadata": {},
   "outputs": [],
   "source": [
    "metric_acc_kafka = metrics.Accuracy()\n",
    "metric_f1_kafka = metrics.F1()"
   ]
  },
  {
   "cell_type": "code",
   "execution_count": 12,
   "id": "726a87e4",
   "metadata": {},
   "outputs": [
    {
     "name": "stdout",
     "output_type": "stream",
     "text": [
      "Drift detected at index 1193\n",
      "Drift detected at index 2215\n",
      "Drift detected at index 3527\n",
      "Drift detected at index 5019\n",
      "Drift detected at index 6101\n",
      "Drift detected at index 7182\n",
      "Drift detected at index 9495\n",
      "Drift detected at index 11560\n",
      "Drift detected at index 13141\n",
      "Drift detected at index 15605\n",
      "Drift detected at index 17056\n",
      "Drift detected at index 18158\n",
      "Drift detected at index 19542\n",
      "Drift detected at index 20633\n",
      "Drift detected at index 21947\n",
      "Drift detected at index 23924\n",
      "Drift detected at index 25718\n",
      "Drift detected at index 27122\n",
      "Drift detected at index 28365\n",
      "Drift detected at index 29789\n",
      "Drift detected at index 30934\n",
      "Drift detected at index 31954\n",
      "Drift detected at index 34973\n",
      "Drift detected at index 36012\n",
      "Drift detected at index 37183\n",
      "Drift detected at index 38270\n",
      "Drift detected at index 40457\n",
      "Drift detected at index 41761\n",
      "Drift detected at index 43191\n",
      "Drift detected at index 44556\n",
      "Drift detected at index 45844\n",
      "Drift detected at index 46869\n",
      "Drift detected at index 49524\n",
      "Drift detected at index 50603\n",
      "Drift detected at index 51676\n",
      "Drift detected at index 53125\n",
      "Drift detected at index 55168\n",
      "Drift detected at index 56635\n",
      "Drift detected at index 57896\n",
      "Drift detected at index 58959\n",
      "Drift detected at index 61082\n",
      "Drift detected at index 63241\n",
      "Drift detected at index 64321\n",
      "Drift detected at index 65492\n",
      "Drift detected at index 67577\n",
      "Drift detected at index 69127\n",
      "Drift detected at index 70652\n",
      "Drift detected at index 72359\n",
      "Drift detected at index 74307\n",
      "Drift detected at index 75583\n",
      "Drift detected at index 78259\n",
      "Drift detected at index 79517\n",
      "Drift detected at index 80598\n",
      "Drift detected at index 83538\n",
      "Drift detected at index 84953\n",
      "Drift detected at index 86072\n",
      "Drift detected at index 87368\n",
      "Drift detected at index 88819\n",
      "Drift detected at index 89833\n",
      "Drift detected at index 91264\n",
      "Drift detected at index 92811\n",
      "Drift detected at index 93975\n",
      "Drift detected at index 95233\n",
      "Drift detected at index 96837\n",
      "Drift detected at index 97968\n",
      "Drift detected at index 99032\n"
     ]
    }
   ],
   "source": [
    "# Data Stream flowing in. - - - Dict()\n",
    "i = 0\n",
    "# concept drift detection\n",
    "kswin = river.drift.KSWIN(window_size = 1000)\n",
    "drifts_ksw = []\n",
    "nan=0\n",
    "inf=0\n",
    "for message in consumer:\n",
    "    #print(message)\n",
    "    tmp_data=eval(message.value.decode(errors='ignore'))   #dict()\n",
    "    if (tmp_data['Label']=='BENIGN'):\n",
    "        dict_y = 0\n",
    "    else:\n",
    "        dict_y = 1        \n",
    "    #print(\"dict_y:\",dict_y)\n",
    "    del tmp_data['Label']\n",
    "    dict_data = tmp_data\n",
    "    #print(\"dict_data\",dict_data)\n",
    "    #print(\"items:\",tmp_data.items())\n",
    "    #print(\"values:\",tmp_data.values())\n",
    "\n",
    "    # prediction and train an adaptive model\n",
    "    yi_pred = model.predict_one(dict_data)  # make a prediction\n",
    "    metric_acc_kafka = metric_acc_kafka.update(dict_y,yi_pred) # update the metric\n",
    "    metric_f1_kafka = metric_f1_kafka.update(dict_y,yi_pred)\n",
    "    model = model.learn_one(dict_data,dict_y) # make the model learn\n",
    "\n",
    "    # concept drift detection\n",
    "    in_drift, in_warning = kswin.update(message.value)\n",
    "    if in_drift:\n",
    "        print(f'Drift detected at index {i}')\n",
    "        print(f'Drift detected at index {i}',file=f2)\n",
    "        drifts_ksw.append(i)\n",
    "        kswin.reset()   # As a best practice, we reset the detector   \n",
    "\n",
    "    if i == 100000:\n",
    "       break       \n",
    "    i += 1"
   ]
  },
  {
   "cell_type": "code",
   "execution_count": 13,
   "id": "7b56f681",
   "metadata": {},
   "outputs": [
    {
     "name": "stdout",
     "output_type": "stream",
     "text": [
      "metric_acc: Accuracy: 90.11%\n",
      "metric_f1 F1: 0.604753\n",
      "i: 100000\n"
     ]
    }
   ],
   "source": [
    "print(\"metric_acc:\",metric_acc_kafka)\n",
    "print(\"metric_f1\",metric_f1_kafka)\n",
    "print(\"i:\",i)\n",
    "\n",
    "print(\"metric_acc:\",metric_acc_kafka,file=f2)\n",
    "print(\"metric_f1\",metric_f1_kafka,file=f2)\n",
    "print(\"i:\",i,file=f2)\n"
   ]
  },
  {
   "cell_type": "code",
   "execution_count": null,
   "id": "41f8229e",
   "metadata": {},
   "outputs": [],
   "source": []
  }
 ],
 "metadata": {
  "kernelspec": {
   "display_name": "Python 3 (ipykernel)",
   "language": "python",
   "name": "python3"
  },
  "language_info": {
   "codemirror_mode": {
    "name": "ipython",
    "version": 3
   },
   "file_extension": ".py",
   "mimetype": "text/x-python",
   "name": "python",
   "nbconvert_exporter": "python",
   "pygments_lexer": "ipython3",
   "version": "3.9.7"
  }
 },
 "nbformat": 4,
 "nbformat_minor": 5
}
